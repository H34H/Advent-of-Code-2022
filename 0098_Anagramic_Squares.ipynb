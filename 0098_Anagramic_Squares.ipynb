{
  "nbformat": 4,
  "nbformat_minor": 0,
  "metadata": {
    "colab": {
      "provenance": [],
      "authorship_tag": "ABX9TyPbwZFD1PoyJO0028BWrPeh",
      "include_colab_link": true
    },
    "kernelspec": {
      "name": "python3",
      "display_name": "Python 3"
    },
    "language_info": {
      "name": "python"
    }
  },
  "cells": [
    {
      "cell_type": "markdown",
      "metadata": {
        "id": "view-in-github",
        "colab_type": "text"
      },
      "source": [
        "<a href=\"https://colab.research.google.com/github/H34H/Advent-of-Code-2022/blob/main/0098_Anagramic_Squares.ipynb\" target=\"_parent\"><img src=\"https://colab.research.google.com/assets/colab-badge.svg\" alt=\"Open In Colab\"/></a>"
      ]
    },
    {
      "cell_type": "code",
      "execution_count": 42,
      "metadata": {
        "id": "TTR9O6cPIoOf"
      },
      "outputs": [],
      "source": [
        "import urllib\n",
        "\n",
        "with urllib.request.urlopen('https://projecteuler.net/resources/documents/0098_words.txt') as response:\n",
        "   data = response.read()\n",
        "data = data.decode(encoding='utf-8')\n",
        "data = data.strip().replace('\"','').split(',')\n",
        "\n"
      ]
    },
    {
      "cell_type": "code",
      "source": [
        "max = 0\n",
        "def transform(letter):\n",
        "  return ord(letter)-64\n",
        "\n",
        "x = 1\n",
        "squares = set()\n",
        "while x**2 < 10**14:\n",
        "  x+=1\n",
        "  squares.add(x**2)\n",
        "\n",
        "print(len(squares))\n",
        "\n",
        "\n",
        "for x in data:\n",
        "   for y in data:\n",
        "      if x != y and x != x[::-1] and len(x) == len(y) and set(x) == set(y):\n",
        "        #print (x,y, list(map(transform, x)), list(map(transform, y)))\n",
        "        pass\n",
        "\n",
        "#print(sorted([len(d) for d in data], reverse=True))"
      ],
      "metadata": {
        "colab": {
          "base_uri": "https://localhost:8080/"
        },
        "id": "qOndjYSGKJ3z",
        "outputId": "3f0636e2-5802-4d5b-819f-3374369a8442"
      },
      "execution_count": 69,
      "outputs": [
        {
          "output_type": "stream",
          "name": "stdout",
          "text": [
            "9999999\n"
          ]
        }
      ]
    }
  ]
}