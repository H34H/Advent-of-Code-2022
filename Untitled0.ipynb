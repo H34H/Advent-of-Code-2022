{
  "nbformat": 4,
  "nbformat_minor": 0,
  "metadata": {
    "colab": {
      "provenance": [],
      "mount_file_id": "1FYyUW6_xI4Bn9NwOnyu0XMoIUCTVg5x3",
      "authorship_tag": "ABX9TyNzJAlqOQdc25dHrvHyBCPV",
      "include_colab_link": true
    },
    "kernelspec": {
      "name": "python3",
      "display_name": "Python 3"
    },
    "language_info": {
      "name": "python"
    }
  },
  "cells": [
    {
      "cell_type": "markdown",
      "metadata": {
        "id": "view-in-github",
        "colab_type": "text"
      },
      "source": [
        "<a href=\"https://colab.research.google.com/github/H34H/Advent-of-Code-2022/blob/main/Untitled0.ipynb\" target=\"_parent\"><img src=\"https://colab.research.google.com/assets/colab-badge.svg\" alt=\"Open In Colab\"/></a>"
      ]
    },
    {
      "cell_type": "code",
      "execution_count": 1,
      "metadata": {
        "colab": {
          "base_uri": "https://localhost:8080/",
          "height": 245
        },
        "id": "iQrQ1tj3E5jo",
        "outputId": "0866a5e4-534f-4820-c771-ca790f141e25"
      },
      "outputs": [
        {
          "output_type": "error",
          "ename": "FileNotFoundError",
          "evalue": "ignored",
          "traceback": [
            "\u001b[0;31m---------------------------------------------------------------------------\u001b[0m",
            "\u001b[0;31mFileNotFoundError\u001b[0m                         Traceback (most recent call last)",
            "\u001b[0;32m<ipython-input-1-d75f3b5e7956>\u001b[0m in \u001b[0;36m<cell line: 6>\u001b[0;34m()\u001b[0m\n\u001b[1;32m      4\u001b[0m \u001b[0;34m\u001b[0m\u001b[0m\n\u001b[1;32m      5\u001b[0m \u001b[0;34m\u001b[0m\u001b[0m\n\u001b[0;32m----> 6\u001b[0;31m \u001b[0;32mwith\u001b[0m \u001b[0mopen\u001b[0m\u001b[0;34m(\u001b[0m\u001b[0;34m\"0082_matrix.txt\"\u001b[0m\u001b[0;34m,\u001b[0m \u001b[0mencoding\u001b[0m\u001b[0;34m=\u001b[0m\u001b[0;34m'UTF-8'\u001b[0m\u001b[0;34m)\u001b[0m \u001b[0;32mas\u001b[0m \u001b[0mf\u001b[0m\u001b[0;34m:\u001b[0m\u001b[0;34m\u001b[0m\u001b[0;34m\u001b[0m\u001b[0m\n\u001b[0m\u001b[1;32m      7\u001b[0m     \u001b[0mt\u001b[0m \u001b[0;34m=\u001b[0m \u001b[0mf\u001b[0m\u001b[0;34m.\u001b[0m\u001b[0mreadlines\u001b[0m\u001b[0;34m(\u001b[0m\u001b[0;34m)\u001b[0m\u001b[0;34m\u001b[0m\u001b[0;34m\u001b[0m\u001b[0m\n\u001b[1;32m      8\u001b[0m \u001b[0;34m\u001b[0m\u001b[0m\n",
            "\u001b[0;31mFileNotFoundError\u001b[0m: [Errno 2] No such file or directory: '0082_matrix.txt'"
          ]
        }
      ],
      "source": [
        "import datetime\n",
        "from math import inf\n",
        "time = datetime.datetime.now()\n",
        "\n",
        "\n",
        "with open(\"0082_matrix.txt\", encoding='UTF-8') as f:\n",
        "    t = f.readlines()\n",
        "\n",
        "\n",
        "t = [x.strip().split(',') for x in t]\n",
        "t = [list(map(int,x)) for x in t]\n",
        "t = [[0] + x + [0] for x in t]\n",
        "\n",
        "unvisited = dict()\n",
        "visited = dict()\n",
        "\n",
        "for r in range(len(t)):\n",
        "  for c in range(len(t[0])):\n",
        "    unvisited[(r,c)] = inf\n",
        "\n",
        "unvisited[(10,0)] = 0\n",
        "\n",
        "while unvisited:\n",
        "  unvisited = dict(sorted(unvisited.items(), key=lambda x:x[1], reverse=True))\n",
        "  minimalNode = unvisited.pop(unvisited[0])\n",
        "  print (minimalNode)\n",
        "\n",
        "\n"
      ]
    },
    {
      "cell_type": "markdown",
      "source": [
        "# New Section"
      ],
      "metadata": {
        "id": "g2N3xVWNucVD"
      }
    }
  ]
}